{
 "cells": [
  {
   "cell_type": "code",
   "execution_count": 1,
   "metadata": {},
   "outputs": [
    {
     "name": "stdout",
     "output_type": "stream",
     "text": [
      "4.5.5\n"
     ]
    }
   ],
   "source": [
    "import cv2\n",
    "\n",
    "print(cv2.__version__)"
   ]
  },
  {
   "cell_type": "code",
   "execution_count": 5,
   "metadata": {},
   "outputs": [
    {
     "name": "stdout",
     "output_type": "stream",
     "text": [
      "가로: 1380\n",
      "세로: 720\n",
      "총 프레임수: 107.0\n",
      "FPS: 107.0\n"
     ]
    }
   ],
   "source": [
    "cap = cv2.VideoCapture(\"/Users/taehoonkim/Desktop/test_video.mp4\")\n",
    "\n",
    "\n",
    "## cap.set(cv2.CAP_PROP_FRAME_WIDTH, 1280)\n",
    "## cap.set(cv2.CAP_PROP_FRAME_height, 720)\n",
    "\n",
    "\n",
    "##width = cap.get(cv2.CAP_PROP_FRAME_WIDTH)\n",
    "##height = cap.get(cv2.CAP_PROP_FRAME_HEIGHT)\n",
    "width = int(1380)\n",
    "height = int(720)\n",
    "count = cap.get(cv2.CAP_PROP_FRAME_COUNT)\n",
    "fps = cap.get(cv2.CAP_PROP_FPS)\n",
    "## count = cap.get(cv2.CAP_PROP_FRAME_COUNT)\n",
    "## cap.set(cv2.CAP_PROP_POS_MSEC, 100)\n",
    "\n",
    "\n",
    "\n",
    "\n",
    "print('가로:', str(width))\n",
    "print('세로:', str(height))\n",
    "print('총 프레임수:', str(count))\n",
    "print('FPS:', str(count))\n"
   ]
  },
  {
   "cell_type": "code",
   "execution_count": 6,
   "metadata": {},
   "outputs": [
    {
     "name": "stderr",
     "output_type": "stream",
     "text": [
      "[h264 @ 0x1259d4a00] mmco: unref short failure\n"
     ]
    }
   ],
   "source": [
    "while(cap.isOpened()):\n",
    "    ret, frame = cap.read()\n",
    "    if ret:\n",
    "        cv2.imshow('frame', frame)\n",
    "    if cv2.waitKey(1) & 0xFF == ord('q'):\n",
    "        break\n",
    "\n",
    "\n",
    "cap.release()\n",
    "cv2.destroyAllWindows()"
   ]
  },
  {
   "cell_type": "code",
   "execution_count": 7,
   "metadata": {},
   "outputs": [
    {
     "name": "stderr",
     "output_type": "stream",
     "text": [
      "[h264 @ 0x1371f8c00] mmco: unref short failure\n"
     ]
    },
    {
     "name": "stdout",
     "output_type": "stream",
     "text": [
      "Saved frame0.jpg\n",
      "Saved frame1.jpg\n",
      "Saved frame2.jpg\n",
      "Saved frame3.jpg\n",
      "Saved frame4.jpg\n",
      "Saved frame5.jpg\n",
      "Saved frame6.jpg\n",
      "Saved frame7.jpg\n",
      "Saved frame8.jpg\n",
      "Saved frame9.jpg\n",
      "Saved frame10.jpg\n",
      "Saved frame11.jpg\n",
      "Saved frame12.jpg\n",
      "Saved frame13.jpg\n",
      "Saved frame14.jpg\n",
      "Saved frame15.jpg\n",
      "Saved frame16.jpg\n",
      "Saved frame17.jpg\n",
      "Saved frame18.jpg\n",
      "Saved frame19.jpg\n",
      "Saved frame20.jpg\n",
      "Saved frame21.jpg\n",
      "Saved frame22.jpg\n",
      "Saved frame23.jpg\n",
      "Saved frame24.jpg\n",
      "Saved frame25.jpg\n",
      "Saved frame26.jpg\n",
      "Saved frame27.jpg\n",
      "Saved frame28.jpg\n",
      "Saved frame29.jpg\n",
      "Saved frame30.jpg\n",
      "Saved frame31.jpg\n",
      "Saved frame32.jpg\n",
      "Saved frame33.jpg\n",
      "Saved frame34.jpg\n",
      "Saved frame35.jpg\n",
      "Saved frame36.jpg\n",
      "Saved frame37.jpg\n",
      "Saved frame38.jpg\n",
      "Saved frame39.jpg\n",
      "Saved frame40.jpg\n",
      "Saved frame41.jpg\n",
      "Saved frame42.jpg\n",
      "Saved frame43.jpg\n",
      "Saved frame44.jpg\n",
      "Saved frame45.jpg\n",
      "Saved frame46.jpg\n",
      "Saved frame47.jpg\n",
      "Saved frame48.jpg\n",
      "Saved frame49.jpg\n",
      "Saved frame50.jpg\n",
      "Saved frame51.jpg\n",
      "Saved frame52.jpg\n",
      "Saved frame53.jpg\n",
      "Saved frame54.jpg\n",
      "Saved frame55.jpg\n",
      "Saved frame56.jpg\n",
      "Saved frame57.jpg\n",
      "Saved frame58.jpg\n",
      "Saved frame59.jpg\n",
      "Saved frame60.jpg\n",
      "Saved frame61.jpg\n",
      "Saved frame62.jpg\n",
      "Saved frame63.jpg\n",
      "Saved frame64.jpg\n",
      "Saved frame65.jpg\n",
      "Saved frame66.jpg\n",
      "Saved frame67.jpg\n",
      "Saved frame68.jpg\n",
      "Saved frame69.jpg\n",
      "Saved frame70.jpg\n",
      "Saved frame71.jpg\n",
      "Saved frame72.jpg\n",
      "Saved frame73.jpg\n",
      "Saved frame74.jpg\n",
      "Saved frame75.jpg\n",
      "Saved frame76.jpg\n",
      "Saved frame77.jpg\n",
      "Saved frame78.jpg\n",
      "Saved frame79.jpg\n",
      "Saved frame80.jpg\n",
      "Saved frame81.jpg\n",
      "Saved frame82.jpg\n",
      "Saved frame83.jpg\n",
      "Saved frame84.jpg\n",
      "Saved frame85.jpg\n",
      "Saved frame86.jpg\n",
      "Saved frame87.jpg\n",
      "Saved frame88.jpg\n",
      "Saved frame89.jpg\n",
      "Saved frame90.jpg\n",
      "Saved frame91.jpg\n",
      "Saved frame92.jpg\n",
      "Saved frame93.jpg\n",
      "Saved frame94.jpg\n",
      "Saved frame95.jpg\n",
      "Saved frame96.jpg\n",
      "Saved frame97.jpg\n",
      "Saved frame98.jpg\n",
      "Saved frame99.jpg\n",
      "Saved frame100.jpg\n",
      "Saved frame101.jpg\n",
      "Saved frame102.jpg\n",
      "Saved frame103.jpg\n",
      "Saved frame104.jpg\n",
      "Saved frame105.jpg\n",
      "Saved frame106.jpg\n"
     ]
    },
    {
     "ename": "",
     "evalue": "",
     "output_type": "error",
     "traceback": [
      "\u001b[1;31m현재 셀 또는 이전 셀에서 코드를 실행하는 동안 Kernel이 충돌했습니다. 셀의 코드를 검토하여 오류의 가능한 원인을 식별하세요. 자세한 내용을 보려면 <a href='https://aka.ms/vscodeJupyterKernelCrash'> 여기 </a> 를 클릭하세요. 자세한 내용은 Jupyter <a href='command:jupyter.viewOutput'>로그</a>를 참조하세요."
     ]
    }
   ],
   "source": [
    "cap = cv2.VideoCapture(\"/Users/taehoonkim/Desktop/test_video.mp4\")\n",
    "count = 0\n",
    "ret, image = cap.read()\n",
    "ret = True\n",
    "\n",
    "while(ret):\n",
    "    cv2.imwrite(\"/Users/taehoonkim/Desktop/kickandkicktest/돌려차기/ehffu_%d.jpg\" % count, image)\n",
    "    ret, image = cap.read()\n",
    "    print('Saved frame%d.jpg' %count)\n",
    "    \n",
    "    count += 1\n",
    "\n",
    "\n",
    "\n",
    "cap.release()\n"
   ]
  }
 ],
 "metadata": {
  "kernelspec": {
   "display_name": "kim",
   "language": "python",
   "name": "python3"
  },
  "language_info": {
   "codemirror_mode": {
    "name": "ipython",
    "version": 3
   },
   "file_extension": ".py",
   "mimetype": "text/x-python",
   "name": "python",
   "nbconvert_exporter": "python",
   "pygments_lexer": "ipython3",
   "version": "3.8.12"
  },
  "orig_nbformat": 4,
  "vscode": {
   "interpreter": {
    "hash": "efadb5761ecd85aead8091d3a05f95a2ebe81063ab13deadc2560b73e38648e1"
   }
  }
 },
 "nbformat": 4,
 "nbformat_minor": 2
}
