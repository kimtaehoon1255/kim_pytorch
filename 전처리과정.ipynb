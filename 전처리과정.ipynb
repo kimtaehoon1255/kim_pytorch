{
 "cells": [
  {
   "cell_type": "code",
   "execution_count": 75,
   "metadata": {},
   "outputs": [],
   "source": [
    "from glob import glob\n",
    "import os\n",
    "import numpy as np\n",
    "import torch\n",
    "import torchvision\n",
    "import torch.nn as nn\n",
    "from torchvision import models\n",
    "import torchvision.transforms as transforms\n",
    "from torchvision import datasets\n",
    "from torchvision.transforms import ToTensor, Lambda\n",
    "from torch.utils.data import Dataset\n",
    "from torchvision import transforms\n",
    "from torchvision.datasets import ImageFolder\n",
    "from torchvision.utils import make_grid\n",
    "from torch.utils.data import Dataset, DataLoader\n",
    "import matplotlib.pyplot as plt\n",
    "import torch.optim as optim\n",
    "from torch.optim import lr_scheduler\n",
    "from torch.optim.lr_scheduler import CosineAnnealingWarmRestarts\n",
    "import torchvision.datasets as datasets\n"
   ]
  },
  {
   "cell_type": "code",
   "execution_count": null,
   "metadata": {},
   "outputs": [],
   "source": [
    "path = '/Users/taehoonkim/Desktop/dogsandcats/'\n",
    "\n",
    "files = glob(os.path.join(path,'*/*.jpg'))\n",
    "\n",
    "print(f'Total no of images {len(files)}')\n",
    "\n",
    "no_of_images = len(files)\n",
    "\n",
    "shuffle = np.random.permutation(no_of_images)\n",
    "\n",
    "os.mkdir(os.path.join(path, 'valid'))\n",
    "\n"
   ]
  },
  {
   "cell_type": "code",
   "execution_count": null,
   "metadata": {},
   "outputs": [],
   "source": [
    "for t in ['train', 'valid']:\n",
    "    for folder in ['dog/','cat/']:\n",
    "        os.mkdir(os.path.join(path,t,folder))\n"
   ]
  },
  {
   "cell_type": "code",
   "execution_count": 9,
   "metadata": {},
   "outputs": [],
   "source": [
    "for i in shuffle[:2000]:\n",
    "    folder = files[i].split('/')[-1].split('.')[0]\n",
    "    image = files[i].split('/')[-1]\n",
    "    os.rename(files[i],os.path.join(path,'valid',folder,image))"
   ]
  },
  {
   "attachments": {},
   "cell_type": "markdown",
   "metadata": {},
   "source": [
    "## 경로 잘 확인해라 쫌!!"
   ]
  },
  {
   "cell_type": "code",
   "execution_count": 3,
   "metadata": {},
   "outputs": [],
   "source": [
    "simple_transform = transforms.Compose([transforms.Resize((224,224))\n",
    "                                       ,transforms.ToTensor()\n",
    "                                       ,transforms.Normalize([0.485, 0.456, 0.406], [0.229, 0.224, 0.225])])\n",
    "train = ImageFolder('/Users/taehoonkim/Desktop/dogsandcats',simple_transform)\n",
    "valid = ImageFolder('/Users/taehoonkim/Desktop/dogsandcats',simple_transform)"
   ]
  },
  {
   "cell_type": "code",
   "execution_count": null,
   "metadata": {},
   "outputs": [],
   "source": [
    "## train.class_to_idx - {'cat': 0, 'dog': 1}\n",
    "## train.classes - ['cat', 'dog']"
   ]
  },
  {
   "cell_type": "code",
   "execution_count": 5,
   "metadata": {},
   "outputs": [],
   "source": [
    "def imshow(inp):\n",
    "    inp = inp.numpy().transpose((1, 2, 0))\n",
    "    mean = np.array([0.485, 0.456, 0.406])\n",
    "    std = np.array([0.229, 0.224, 0.255])\n",
    "    inp = std * inp + mean\n",
    "    inp = np.clip(inp, 0, 1)\n",
    "    plt.imshow(inp)"
   ]
  },
  {
   "cell_type": "code",
   "execution_count": null,
   "metadata": {},
   "outputs": [],
   "source": [
    "imshow(train[50][0])"
   ]
  },
  {
   "cell_type": "code",
   "execution_count": 15,
   "metadata": {},
   "outputs": [],
   "source": [
    "train_data_gen = torch.utils.data.DataLoader(train,batch_size=64,num_workers=3)\n",
    "valid_data_gen = torch.utils.data.DataLoader(valid,batch_size=64,num_workers=3)"
   ]
  },
  {
   "cell_type": "code",
   "execution_count": 47,
   "metadata": {},
   "outputs": [
    {
     "name": "stdout",
     "output_type": "stream",
     "text": [
      "Current cuda device is cuda\n"
     ]
    }
   ],
   "source": [
    "##print(torch.backends.mps.is_built())\n",
    "##print(torch.backends.mps.is_available())\n",
    "## torch.cuda.is_available()\n",
    "## a = torch.tensor([1, 2, 3, 4]).to(\"mps\")\n",
    "## a\n",
    "## torch.backends.mps.is_available()\n",
    "## torch.cuda.is_available()\n",
    "## torch.cuda.current_device()\n",
    "is_cuda = torch.cuda.is_available()\n",
    "device = torch.device('cuda' if is_cuda else 'cuda')\n",
    "\n",
    "print('Current cuda device is', device)"
   ]
  },
  {
   "cell_type": "code",
   "execution_count": 50,
   "metadata": {},
   "outputs": [],
   "source": [
    "\n",
    "model_ft = models.resnet18(pretrained=True)\n",
    "num_ftrs = model_ft.fc.in_features\n",
    "model_ft.fc = nn.Linear(num_ftrs, 2)\n",
    "\n",
    "if is_cuda:\n",
    "    model_ft = model_ft.cuda()\n",
    "\n"
   ]
  },
  {
   "cell_type": "code",
   "execution_count": 101,
   "metadata": {},
   "outputs": [],
   "source": [
    "learning_rate = 0.01\n",
    "criterion = nn.CrossEntropyLoss()\n",
    "optimizer_ft = optim.SGD(model_ft.parameters(), lr=0.01, momentum=0.9)\n",
    "exp_lr_scheduler = lr_scheduler.StepLR(optimizer_ft, step_size = 7, gamma=0.01)\n",
    "\n"
   ]
  },
  {
   "cell_type": "code",
   "execution_count": 99,
   "metadata": {},
   "outputs": [],
   "source": [
    "def train_model(model, criterion, optimizer, scheduler, num_epochs=5):\n",
    "    since = time.time()\n",
    "\n",
    "    best_model_wts = model.state_dict()\n",
    "    best_acc = 0.0\n",
    "\n",
    "    for epoch in range(num_epochs):\n",
    "        print('Epoch {}/{}'.format(epoch, num_epochs - 1))\n",
    "        print('-' * 10)\n",
    "\n",
    "        # 각 Epoch은 학습 단계와 검증 단계를 거침\n",
    "        for phase in ['train', 'valid']:\n",
    "            if phase == 'train':\n",
    "                scheduler.step()\n",
    "                model.train(True)  # 학습 모드 설정\n",
    "            else:\n",
    "                model.train(False)  # 검증 모드 설정\n",
    "\n",
    "            running_loss = 0.0\n",
    "            running_corrects = 0\n",
    "\n",
    "\n",
    "            for data in dataloaders[phase]:\n",
    "                inputs, labels = data\n",
    "                if is_cuda:\n",
    "                    inputs = Variable(inputs.cuda())\n",
    "                    labels = Variable(labels.cuda())\n",
    "                else:\n",
    "                    inputs, labels = Variable(inputs), Variable(labels)\n",
    "\n",
    "                optimizer.zero_grad()\n",
    "\n",
    "                outputs = model(inputs)\n",
    "                _, preds = torch.max(outputs.data, 1)\n",
    "                loss = criterion(outputs, labels)\n",
    "\n",
    "                if phase == 'train':\n",
    "                    loss.backwart()\n",
    "                    optimizer.step\n",
    "\n",
    "                running_loss += loss.data[0]\n",
    "                running_corrects += torch.sum(preds == labels.data)\n",
    "\n",
    "            ipoch_loss = running_loss / dataset_sizes[phase]\n",
    "            epoch_acc = running_corrects / dataset_sizes[phase]\n",
    "\n",
    "            print('{} Loss: {:.4f} Acc: {:.4f}'.format(\n",
    "                phase, epoch_loss, epoch_acc))\n",
    "\n",
    "            # 모델 복사(Deep Copy)\n",
    "            if phase == 'valid' and epoch_acc > best_acc:\n",
    "                best_acc = epoch_acc\n",
    "                best_model_wts = model.state_dict()\n",
    "\n",
    "        print()\n",
    "\n",
    "    time_elapsed = time.time() - since\n",
    "    print('Training complete in {:.0f}m {:.0f}s'.format(\n",
    "        time_elapsed // 60, time_elapsed % 60))\n",
    "    print('Best val Acc: {:4f}'.format(best_acc))\n",
    "\n",
    "    model.load_state_dict(best_model_wts)\n",
    "    return model\n",
    "\n",
    "\n"
   ]
  },
  {
   "cell_type": "code",
   "execution_count": 103,
   "metadata": {},
   "outputs": [
    {
     "ename": "NameError",
     "evalue": "name 'time' is not defined",
     "output_type": "error",
     "traceback": [
      "\u001b[0;31m---------------------------------------------------------------------------\u001b[0m",
      "\u001b[0;31mNameError\u001b[0m                                 Traceback (most recent call last)",
      "\u001b[1;32m/Users/taehoonkim/Documents/Work_space/전처리과정.ipynb 셀 15\u001b[0m in \u001b[0;36m<module>\u001b[0;34m\u001b[0m\n\u001b[0;32m----> <a href='vscode-notebook-cell:/Users/taehoonkim/Documents/Work_space/%EC%A0%84%EC%B2%98%EB%A6%AC%EA%B3%BC%EC%A0%95.ipynb#X16sZmlsZQ%3D%3D?line=0'>1</a>\u001b[0m train_model(model\u001b[39m=\u001b[39;49mlearning_rate, criterion\u001b[39m=\u001b[39;49mcriterion, optimizer\u001b[39m=\u001b[39;49moptimizer_ft, scheduler\u001b[39m=\u001b[39;49mexp_lr_scheduler)\n",
      "\u001b[1;32m/Users/taehoonkim/Documents/Work_space/전처리과정.ipynb 셀 15\u001b[0m in \u001b[0;36mtrain_model\u001b[0;34m(model, criterion, optimizer, scheduler, num_epochs)\u001b[0m\n\u001b[1;32m      <a href='vscode-notebook-cell:/Users/taehoonkim/Documents/Work_space/%EC%A0%84%EC%B2%98%EB%A6%AC%EA%B3%BC%EC%A0%95.ipynb#X16sZmlsZQ%3D%3D?line=0'>1</a>\u001b[0m \u001b[39mdef\u001b[39;00m \u001b[39mtrain_model\u001b[39m(model, criterion, optimizer, scheduler, num_epochs\u001b[39m=\u001b[39m\u001b[39m5\u001b[39m):\n\u001b[0;32m----> <a href='vscode-notebook-cell:/Users/taehoonkim/Documents/Work_space/%EC%A0%84%EC%B2%98%EB%A6%AC%EA%B3%BC%EC%A0%95.ipynb#X16sZmlsZQ%3D%3D?line=1'>2</a>\u001b[0m     since \u001b[39m=\u001b[39m time\u001b[39m.\u001b[39mtime()\n\u001b[1;32m      <a href='vscode-notebook-cell:/Users/taehoonkim/Documents/Work_space/%EC%A0%84%EC%B2%98%EB%A6%AC%EA%B3%BC%EC%A0%95.ipynb#X16sZmlsZQ%3D%3D?line=3'>4</a>\u001b[0m     best_model_wts \u001b[39m=\u001b[39m model\u001b[39m.\u001b[39mstate_dict()\n\u001b[1;32m      <a href='vscode-notebook-cell:/Users/taehoonkim/Documents/Work_space/%EC%A0%84%EC%B2%98%EB%A6%AC%EA%B3%BC%EC%A0%95.ipynb#X16sZmlsZQ%3D%3D?line=4'>5</a>\u001b[0m     best_acc \u001b[39m=\u001b[39m \u001b[39m0.0\u001b[39m\n",
      "\u001b[0;31mNameError\u001b[0m: name 'time' is not defined"
     ]
    }
   ],
   "source": [
    "train_model(model=learning_rate, criterion=criterion, optimizer=optimizer_ft, scheduler=exp_lr_scheduler)"
   ]
  },
  {
   "cell_type": "code",
   "execution_count": 14,
   "metadata": {},
   "outputs": [
    {
     "name": "stdout",
     "output_type": "stream",
     "text": [
      "dog.8011.jpg\n"
     ]
    }
   ],
   "source": [
    "print(files[0].split('/')[-1])"
   ]
  },
  {
   "cell_type": "code",
   "execution_count": null,
   "metadata": {},
   "outputs": [],
   "source": [
    "## print(torch.backends.mps.is_available())\n",
    "## print(torch.backends.mps.is_built())\n",
    "## torch.cuda.is_available()\n",
    "print(torch.__version__)\n",
    "print(torch.backends.mps.is_built())\n",
    "print(torch.backends.mps.is_available())\n",
    "mps_device = torch.device(\"mps\")\n",
    "x = torch.ones(5, device=mps_device)\n",
    "# 또는\n",
    "x = torch.ones(5, device=\"mps\")\n",
    "y = x * 2"
   ]
  }
 ],
 "metadata": {
  "kernelspec": {
   "display_name": "kim",
   "language": "python",
   "name": "python3"
  },
  "language_info": {
   "codemirror_mode": {
    "name": "ipython",
    "version": 3
   },
   "file_extension": ".py",
   "mimetype": "text/x-python",
   "name": "python",
   "nbconvert_exporter": "python",
   "pygments_lexer": "ipython3",
   "version": "3.8.12 | packaged by conda-forge | (default, Jan 30 2022, 23:13:55) \n[Clang 11.1.0 ]"
  },
  "orig_nbformat": 4,
  "vscode": {
   "interpreter": {
    "hash": "efadb5761ecd85aead8091d3a05f95a2ebe81063ab13deadc2560b73e38648e1"
   }
  }
 },
 "nbformat": 4,
 "nbformat_minor": 2
}
